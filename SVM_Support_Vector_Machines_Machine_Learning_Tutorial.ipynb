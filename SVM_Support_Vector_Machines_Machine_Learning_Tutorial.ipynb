{
  "nbformat": 4,
  "nbformat_minor": 0,
  "metadata": {
    "colab": {
      "name": "SVM Support Vector Machines - Machine Learning Tutorial.ipynb",
      "version": "0.3.2",
      "provenance": []
    },
    "kernelspec": {
      "name": "python3",
      "display_name": "Python 3"
    }
  },
  "cells": [
    {
      "metadata": {
        "id": "4IHOaYLQv5EY",
        "colab_type": "code",
        "colab": {
          "base_uri": "https://localhost:8080/",
          "height": 322
        },
        "outputId": "38af8748-9ad7-4d3e-87a3-424e908e1e4a"
      },
      "cell_type": "code",
      "source": [
        "# SVM Support Vector Machines - Machine Learning Tutorial\n",
        "\n",
        "###################################################\n",
        "\n",
        "from sklearn import datasets, svm\n",
        "import pandas as pd\n",
        "\n",
        "###################################################\n",
        "\n",
        "flower_data = datasets.load_iris()\n",
        "\n",
        "features = pd.DataFrame(flower_data.data)\n",
        "targets = pd.DataFrame(flower_data.target)\n",
        "\n",
        "training_features = features[0:120]\n",
        "test_features = features[120:]\n",
        "\n",
        "training_target = targets[0:120]\n",
        "test_target = targets[120:]\n",
        "\n",
        "###################################################\n",
        "\n",
        "our_svm = svm.SVC()\n",
        "\n",
        "our_svm.fit(training_features,training_target)\n",
        "\n",
        "###################################################\n",
        "\n",
        "accuracy = our_svm.score(test_features,test_target)\n",
        "\n",
        "print(accuracy)\n",
        "\n",
        "predictions = our_svm.predict(test_features)\n",
        "\n",
        "predictions = pd.DataFrame(predictions,columns=[\"Predictions\"])\n",
        "\n",
        "print(predictions.head())\n",
        "\n",
        "print(test_target.head())"
      ],
      "execution_count": 2,
      "outputs": [
        {
          "output_type": "stream",
          "text": [
            "0.8333333333333334\n",
            "   Predictions\n",
            "0            2\n",
            "1            2\n",
            "2            2\n",
            "3            1\n",
            "4            2\n",
            "     0\n",
            "120  2\n",
            "121  2\n",
            "122  2\n",
            "123  2\n",
            "124  2\n"
          ],
          "name": "stdout"
        },
        {
          "output_type": "stream",
          "text": [
            "/usr/local/lib/python3.6/dist-packages/sklearn/utils/validation.py:761: DataConversionWarning: A column-vector y was passed when a 1d array was expected. Please change the shape of y to (n_samples, ), for example using ravel().\n",
            "  y = column_or_1d(y, warn=True)\n",
            "/usr/local/lib/python3.6/dist-packages/sklearn/svm/base.py:196: FutureWarning: The default value of gamma will change from 'auto' to 'scale' in version 0.22 to account better for unscaled features. Set gamma explicitly to 'auto' or 'scale' to avoid this warning.\n",
            "  \"avoid this warning.\", FutureWarning)\n"
          ],
          "name": "stderr"
        }
      ]
    }
  ]
}