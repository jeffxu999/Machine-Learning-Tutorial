{
  "nbformat": 4,
  "nbformat_minor": 0,
  "metadata": {
    "colab": {
      "name": "Logistic Regression - Machine Learning Tutorial.ipynb",
      "version": "0.3.2",
      "provenance": []
    },
    "kernelspec": {
      "name": "python3",
      "display_name": "Python 3"
    }
  },
  "cells": [
    {
      "metadata": {
        "id": "DmAD-c-BuKFX",
        "colab_type": "code",
        "colab": {
          "base_uri": "https://localhost:8080/",
          "height": 451
        },
        "outputId": "09ce203d-9dec-46ba-cab7-82405242ac81"
      },
      "cell_type": "code",
      "source": [
        "# Logistic Regression - Machine Learning Tutorial\n",
        "\n",
        "#################################################################\n",
        "\n",
        "from sklearn import datasets, linear_model\n",
        "import pandas as pd\n",
        "import matplotlib.pyplot as plt\n",
        "\n",
        "#################################################################\n",
        "\n",
        "cancer_data = datasets.load_breast_cancer()\n",
        "\n",
        "features = pd.DataFrame(cancer_data.data, columns=cancer_data.feature_names)\n",
        "\n",
        "targets = pd.DataFrame(cancer_data.target)\n",
        "\n",
        "training_features = features[0:455]\n",
        "test_features = features[455:]\n",
        "\n",
        "training_targets = targets[0:455]\n",
        "test_targets = targets[455:]\n",
        "\n",
        "#################################################################\n",
        "\n",
        "logistic_regression = linear_model.LogisticRegression()\n",
        "\n",
        "logistic_regression.fit(training_features, training_targets)\n",
        "\n",
        "#################################################################\n",
        "\n",
        "mean_accuracy = logistic_regression.score(test_features,test_targets)\n",
        "\n",
        "location_index = 455\n",
        "\n",
        "test_point = test_features.loc[location_index]\n",
        "\n",
        "test_point_vector = test_point.reshape(1,-1)\n",
        "\n",
        "our_prediction = logistic_regression.predict(test_point_vector)\n",
        "\n",
        "feature_used = \"mean radius\"\n",
        "\n",
        "plt.scatter(features[feature_used],targets)\n",
        "\n",
        "plt.scatter(test_point[feature_used],our_prediction,c=\"red\",linewidths=\"10\")\n",
        "\n",
        "plt.scatter(test_features.loc[location_index][feature_used],test_targets.loc[location_index],c=\"green\",linewidths=\"30\")\n",
        "\n",
        "plt.show()"
      ],
      "execution_count": 4,
      "outputs": [
        {
          "output_type": "stream",
          "text": [
            "/usr/local/lib/python3.6/dist-packages/sklearn/linear_model/logistic.py:433: FutureWarning: Default solver will be changed to 'lbfgs' in 0.22. Specify a solver to silence this warning.\n",
            "  FutureWarning)\n",
            "/usr/local/lib/python3.6/dist-packages/sklearn/utils/validation.py:761: DataConversionWarning: A column-vector y was passed when a 1d array was expected. Please change the shape of y to (n_samples, ), for example using ravel().\n",
            "  y = column_or_1d(y, warn=True)\n",
            "/usr/local/lib/python3.6/dist-packages/ipykernel_launcher.py:34: FutureWarning: reshape is deprecated and will raise in a subsequent release. Please use .values.reshape(...) instead\n"
          ],
          "name": "stderr"
        },
        {
          "output_type": "display_data",
          "data": {
            "image/png": "[encoded data removed]",
            "text/plain": [
              "<matplotlib.figure.Figure at 0x7f305bdb45c0>"
            ]
          },
          "metadata": {
            "tags": []
          }
        }
      ]
    }
  ]
}