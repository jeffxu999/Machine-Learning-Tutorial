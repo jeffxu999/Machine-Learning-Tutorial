{
  "nbformat": 4,
  "nbformat_minor": 0,
  "metadata": {
    "colab": {
      "name": "Random Forest Classifier - Machine Learning Tutorial.ipynb",
      "version": "0.3.2",
      "provenance": []
    },
    "kernelspec": {
      "name": "python3",
      "display_name": "Python 3"
    }
  },
  "cells": [
    {
      "metadata": {
        "id": "otdaYBqc0lhG",
        "colab_type": "code",
        "colab": {
          "base_uri": "https://localhost:8080/",
          "height": 306
        },
        "outputId": "6d579752-6fe6-4acf-f781-275afe2adab9"
      },
      "cell_type": "code",
      "source": [
        "# Random Forest Classifier - Machine Learning Tutorial\n",
        "\n",
        "#######################################################\n",
        "\n",
        "from sklearn import datasets, ensemble\n",
        "import pandas as pd\n",
        "\n",
        "#######################################################\n",
        "\n",
        "wine_data = datasets.load_wine()\n",
        "\n",
        "features = pd.DataFrame(wine_data.data,columns=wine_data.feature_names)\n",
        "\n",
        "targets = pd.DataFrame(wine_data.target)\n",
        "\n",
        "training_features = features[0:142]\n",
        "test_features = features[142:]\n",
        "\n",
        "training_targets = targets[0:142]\n",
        "test_targets = targets[142:]\n",
        "\n",
        "#######################################################\n",
        "\n",
        "our_forest = ensemble.RandomForestClassifier()\n",
        "\n",
        "our_forest.fit(training_features,training_targets)\n",
        "\n",
        "#######################################################\n",
        "\n",
        "accuracy = our_forest.score(test_features,test_targets)\n",
        "\n",
        "print(accuracy)\n",
        "\n",
        "predictions = our_forest.predict(test_features)\n",
        "\n",
        "predictions = pd.DataFrame(predictions,columns=[\"Wine Guess\"])\n",
        "\n",
        "print(predictions.head())\n",
        "\n",
        "print(test_targets.head())"
      ],
      "execution_count": 3,
      "outputs": [
        {
          "output_type": "stream",
          "text": [
            "0.9722222222222222\n",
            "   Wine Guess\n",
            "0           2\n",
            "1           2\n",
            "2           2\n",
            "3           2\n",
            "4           2\n",
            "     0\n",
            "142  2\n",
            "143  2\n",
            "144  2\n",
            "145  2\n",
            "146  2\n"
          ],
          "name": "stdout"
        },
        {
          "output_type": "stream",
          "text": [
            "/usr/local/lib/python3.6/dist-packages/sklearn/ensemble/forest.py:246: FutureWarning: The default value of n_estimators will change from 10 in version 0.20 to 100 in 0.22.\n",
            "  \"10 in version 0.20 to 100 in 0.22.\", FutureWarning)\n",
            "/usr/local/lib/python3.6/dist-packages/ipykernel_launcher.py:23: DataConversionWarning: A column-vector y was passed when a 1d array was expected. Please change the shape of y to (n_samples,), for example using ravel().\n"
          ],
          "name": "stderr"
        }
      ]
    }
  ]
}