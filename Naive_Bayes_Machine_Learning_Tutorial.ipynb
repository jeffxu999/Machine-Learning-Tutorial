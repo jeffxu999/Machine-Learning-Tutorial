{
  "nbformat": 4,
  "nbformat_minor": 0,
  "metadata": {
    "colab": {
      "name": "Naive Bayes - Machine Learning Tutorial.ipynb",
      "version": "0.3.2",
      "provenance": []
    },
    "kernelspec": {
      "name": "python3",
      "display_name": "Python 3"
    }
  },
  "cells": [
    {
      "metadata": {
        "id": "c5DfjSjvJBei",
        "colab_type": "code",
        "colab": {
          "base_uri": "https://localhost:8080/",
          "height": 289
        },
        "outputId": "3ca68f61-b865-4916-f814-08d2d9daf7df"
      },
      "cell_type": "code",
      "source": [
        "# Naive Bayes - Machine Learning Tutorial\n",
        "\n",
        "#######################################################\n",
        "\n",
        "from sklearn import datasets, naive_bayes\n",
        "import pandas as pd\n",
        "\n",
        "#######################################################\n",
        "\n",
        "cancer_data = datasets.load_breast_cancer()\n",
        "\n",
        "features = pd.DataFrame(cancer_data.data, columns=cancer_data.feature_names)\n",
        "\n",
        "targets = pd.DataFrame(cancer_data.target)\n",
        "\n",
        "training_features = features[0:455]\n",
        "test_features = features[455:]\n",
        "\n",
        "training_targets = targets[0:455]\n",
        "test_targets = targets[455:]\n",
        "\n",
        "#######################################################\n",
        "\n",
        "our_naive_bayes = naive_bayes.MultinomialNB()\n",
        "\n",
        "our_naive_bayes.fit(training_features, training_targets)\n",
        "\n",
        "#######################################################\n",
        "\n",
        "accuracy = our_naive_bayes.score(test_features, test_targets)\n",
        "\n",
        "print(accuracy)\n",
        "\n",
        "predictions = our_naive_bayes.predict(test_features)\n",
        "\n",
        "predictions = pd.DataFrame(predictions)\n",
        "\n",
        "print(predictions.head())\n",
        "\n",
        "print(test_targets.head())"
      ],
      "execution_count": 5,
      "outputs": [
        {
          "output_type": "stream",
          "text": [
            "0.9210526315789473\n",
            "   0\n",
            "0  1\n",
            "1  1\n",
            "2  1\n",
            "3  1\n",
            "4  1\n",
            "     0\n",
            "455  1\n",
            "456  1\n",
            "457  1\n",
            "458  1\n",
            "459  1\n"
          ],
          "name": "stdout"
        },
        {
          "output_type": "stream",
          "text": [
            "/usr/local/lib/python3.6/dist-packages/sklearn/utils/validation.py:761: DataConversionWarning: A column-vector y was passed when a 1d array was expected. Please change the shape of y to (n_samples, ), for example using ravel().\n",
            "  y = column_or_1d(y, warn=True)\n"
          ],
          "name": "stderr"
        }
      ]
    }
  ]
}