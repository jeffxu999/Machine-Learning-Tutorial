{
  "nbformat": 4,
  "nbformat_minor": 0,
  "metadata": {
    "colab": {
      "name": "XGBoost - Machine Learning Tutorial.ipynb",
      "version": "0.3.2",
      "provenance": []
    },
    "kernelspec": {
      "name": "python3",
      "display_name": "Python 3"
    }
  },
  "cells": [
    {
      "metadata": {
        "id": "BJEybQqb6RKa",
        "colab_type": "code",
        "colab": {
          "base_uri": "https://localhost:8080/",
          "height": 440
        },
        "outputId": "e994741a-9751-485b-b6f7-e1dc331df160"
      },
      "cell_type": "code",
      "source": [
        "# XGBoost - Machine Learning Tutorial\n",
        "\n",
        "#############################################################\n",
        "\n",
        "from sklearn import datasets, tree, utils\n",
        "import xgboost as xgb\n",
        "import pandas as pd\n",
        "\n",
        "#############################################################\n",
        "\n",
        "cancer_data = datasets.load_breast_cancer()\n",
        "\n",
        "inputs, outputs = utils.shuffle(cancer_data.data, cancer_data.target, random_state=111)\n",
        "\n",
        "features = pd.DataFrame(inputs, columns=cancer_data.feature_names)\n",
        "\n",
        "targets = pd.DataFrame(outputs)\n",
        "\n",
        "training_data = features[0:455]\n",
        "test_data = features[455:]\n",
        "\n",
        "training_target = targets[0:455]\n",
        "test_target = targets[455:]\n",
        "\n",
        "#############################################################\n",
        "\n",
        "our_tree = tree.DecisionTreeClassifier()\n",
        "\n",
        "our_tree.fit(training_data,training_target)\n",
        "\n",
        "weak_accuracy_test = our_tree.score(test_data,test_target)\n",
        "\n",
        "print(weak_accuracy_test)\n",
        "\n",
        "#############################################################\n",
        "\n",
        "our_xgbooster = xgb.XGBClassifier(max_depth=5)\n",
        "\n",
        "our_xgbooster.fit(training_data,training_target)\n",
        "\n",
        "strong_accuracy_test = our_xgbooster.score(test_data,test_target)\n",
        "\n",
        "print(strong_accuracy_test)\n",
        "\n",
        "#############################################################\n",
        "\n",
        "strong_predictions = pd.DataFrame(our_xgbooster.predict(test_data))\n",
        "\n",
        "weak_predictions = pd.DataFrame(our_tree.predict(test_data))\n",
        "\n",
        "print(\"Strong:\", strong_predictions.head())\n",
        "print(\"Weak:\", weak_predictions.head())\n",
        "print(\"Target:\", test_target.head())"
      ],
      "execution_count": 7,
      "outputs": [
        {
          "output_type": "stream",
          "text": [
            "0.9210526315789473\n",
            "0.9649122807017544\n",
            "Strong:    0\n",
            "0  0\n",
            "1  0\n",
            "2  1\n",
            "3  1\n",
            "4  0\n",
            "Weak:    0\n",
            "0  0\n",
            "1  0\n",
            "2  1\n",
            "3  1\n",
            "4  0\n",
            "Target:      0\n",
            "455  0\n",
            "456  0\n",
            "457  1\n",
            "458  1\n",
            "459  0\n"
          ],
          "name": "stdout"
        },
        {
          "output_type": "stream",
          "text": [
            "/usr/local/lib/python3.6/dist-packages/sklearn/preprocessing/label.py:219: DataConversionWarning: A column-vector y was passed when a 1d array was expected. Please change the shape of y to (n_samples, ), for example using ravel().\n",
            "  y = column_or_1d(y, warn=True)\n",
            "/usr/local/lib/python3.6/dist-packages/sklearn/preprocessing/label.py:252: DataConversionWarning: A column-vector y was passed when a 1d array was expected. Please change the shape of y to (n_samples, ), for example using ravel().\n",
            "  y = column_or_1d(y, warn=True)\n"
          ],
          "name": "stderr"
        }
      ]
    }
  ]
}