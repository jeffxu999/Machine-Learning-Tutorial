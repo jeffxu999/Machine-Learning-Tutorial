{
  "nbformat": 4,
  "nbformat_minor": 0,
  "metadata": {
    "colab": {
      "name": "Gradient Boosting - Machine Learning Tutorial.ipynb",
      "version": "0.3.2",
      "provenance": []
    },
    "kernelspec": {
      "name": "python3",
      "display_name": "Python 3"
    }
  },
  "cells": [
    {
      "metadata": {
        "id": "BkMbLu4tYNSU",
        "colab_type": "code",
        "colab": {
          "base_uri": "https://localhost:8080/",
          "height": 406
        },
        "outputId": "456541b7-b84b-4207-8757-f3ff8fe9b236"
      },
      "cell_type": "code",
      "source": [
        "# Gradient Boosting - Machine Learning Tutorial\n",
        "\n",
        "#######################################################\n",
        "\n",
        "from sklearn import datasets, tree, ensemble, utils\n",
        "import pandas as pd\n",
        "\n",
        "#######################################################\n",
        "\n",
        "housing_data = datasets.load_boston()\n",
        "\n",
        "inputs,outputs = utils.shuffle(housing_data.data,housing_data.target,random_state=111)\n",
        "\n",
        "features = pd.DataFrame(inputs, columns=housing_data.feature_names)\n",
        "\n",
        "targets = pd.DataFrame(outputs)\n",
        "\n",
        "training_data = features[0:404]\n",
        "test_data = features[404:]\n",
        "\n",
        "training_target = targets[0:404]\n",
        "test_target = targets[404:]\n",
        "\n",
        "#######################################################\n",
        "\n",
        "our_tree = tree.DecisionTreeRegressor()\n",
        "\n",
        "our_tree.fit(training_data,training_target)\n",
        "\n",
        "weak_accuracy_test = our_tree.score(test_data,test_target)\n",
        "\n",
        "print(weak_accuracy_test)\n",
        "\n",
        "#######################################################\n",
        "\n",
        "our_gradient_booster = ensemble.GradientBoostingRegressor(max_depth=3)\n",
        "\n",
        "our_gradient_booster.fit(training_data,training_target)\n",
        "\n",
        "strong_accuracy_test = our_gradient_booster.score(test_data,test_target)\n",
        "\n",
        "print(strong_accuracy_test)\n",
        "\n",
        "#######################################################\n",
        "\n",
        "strong_predictions = pd.DataFrame(our_gradient_booster.predict(test_data))\n",
        "\n",
        "weak_predictions = pd.DataFrame(our_tree.predict(test_data))\n",
        "\n",
        "print(\"Strong:\",strong_predictions.head())\n",
        "print(\"Weak:\",weak_predictions.head())\n",
        "print(\"Target:\",test_target.head())"
      ],
      "execution_count": 6,
      "outputs": [
        {
          "output_type": "stream",
          "text": [
            "0.5573307145006493\n",
            "0.80093468967267\n",
            "Strong:            0\n",
            "0  23.581103\n",
            "1  11.659232\n",
            "2  19.530109\n",
            "3  20.547935\n",
            "4  48.492510\n",
            "Weak:       0\n",
            "0  23.4\n",
            "1  14.3\n",
            "2  20.0\n",
            "3  16.2\n",
            "4  50.0\n",
            "Target:         0\n",
            "404  20.5\n",
            "405  14.4\n",
            "406  17.4\n",
            "407  19.3\n",
            "408  50.0\n"
          ],
          "name": "stdout"
        },
        {
          "output_type": "stream",
          "text": [
            "/usr/local/lib/python3.6/dist-packages/sklearn/utils/validation.py:761: DataConversionWarning: A column-vector y was passed when a 1d array was expected. Please change the shape of y to (n_samples, ), for example using ravel().\n",
            "  y = column_or_1d(y, warn=True)\n"
          ],
          "name": "stderr"
        }
      ]
    }
  ]
}